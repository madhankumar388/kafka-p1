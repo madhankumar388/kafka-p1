{
 "cells": [
  {
   "cell_type": "code",
   "execution_count": 3,
   "id": "938f0c18-c65c-4424-82de-27656686203b",
   "metadata": {},
   "outputs": [],
   "source": [
    "import pyodbc\n",
    "import json\n",
    "import datetime\n",
    "from kafka import KafkaProducer\n",
    "from kafka.vendor.six import b\n",
    "\n",
    "producer = KafkaProducer(bootstrap_servers='localhost:9091', value_serializer=lambda v: json.dumps(v, cls=DateTimeEncoder).encode('utf-8') , key_serializer=str.encode)\n"
   ]
  },
  {
   "cell_type": "code",
   "execution_count": 11,
   "id": "63e35319-314c-4fb1-b383-b0fbfcb73000",
   "metadata": {},
   "outputs": [
    {
     "name": "stdout",
     "output_type": "stream",
     "text": [
      "1111 {'trade_date': datetime.datetime(2021, 1, 1, 0, 0), 'ext_acc': 1111, 'modified_by': 'xceptor', 'currency': 'USD    ', 'amount': 100.0, 'modified_date': datetime.datetime(2021, 6, 11, 23, 29, 28, 760000), 'file_path': 'FILE2               '}\n",
      "2222 {'trade_date': datetime.datetime(2021, 2, 1, 0, 0), 'ext_acc': 2222, 'modified_by': 'xceptor', 'currency': 'USD    ', 'amount': 200.0, 'modified_date': datetime.datetime(2021, 6, 11, 23, 29, 28, 763000), 'file_path': 'FILE3               '}\n",
      "3333 {'trade_date': datetime.datetime(2021, 3, 1, 0, 0), 'ext_acc': 3333, 'modified_by': 'xceptor', 'currency': 'USD    ', 'amount': 300.0, 'modified_date': datetime.datetime(2021, 6, 11, 23, 29, 28, 767000), 'file_path': 'FILE4               '}\n",
      "4444 {'trade_date': datetime.datetime(2021, 4, 1, 0, 0), 'ext_acc': 4444, 'modified_by': 'xceptor', 'currency': 'USD    ', 'amount': 400.0, 'modified_date': datetime.datetime(2021, 6, 11, 23, 29, 28, 767000), 'file_path': 'FILE5               '}\n",
      "5555 {'trade_date': datetime.datetime(2021, 5, 1, 0, 0), 'ext_acc': 5555, 'modified_by': 'xceptor', 'currency': 'EUR    ', 'amount': 55356.0, 'modified_date': datetime.datetime(2021, 6, 14, 15, 48, 51, 873000), 'file_path': 'FILEXXXX            '}\n",
      "6666 {'trade_date': datetime.datetime(2021, 6, 1, 0, 0), 'ext_acc': 6666, 'modified_by': 'xdo    ', 'currency': 'USD    ', 'amount': 600.0, 'modified_date': datetime.datetime(2021, 6, 11, 23, 29, 28, 777000), 'file_path': 'FILE7               '}\n",
      "7777 {'trade_date': datetime.datetime(2021, 7, 1, 0, 0), 'ext_acc': 7777, 'modified_by': 'xdo    ', 'currency': 'USD    ', 'amount': 700.0, 'modified_date': datetime.datetime(2021, 6, 11, 23, 29, 28, 780000), 'file_path': 'FILE8               '}\n",
      "8888 {'trade_date': datetime.datetime(2021, 8, 1, 0, 0), 'ext_acc': 8888, 'modified_by': 'xdo    ', 'currency': 'USD    ', 'amount': 800.0, 'modified_date': datetime.datetime(2021, 6, 11, 23, 29, 28, 800000), 'file_path': 'FILE9               '}\n",
      "5555 {'trade_date': datetime.datetime(2021, 5, 1, 0, 0), 'ext_acc': 5555, 'modified_by': 'xceptor', 'currency': 'SAR    ', 'amount': 55356.0, 'modified_date': datetime.datetime(2021, 6, 14, 15, 48, 51, 880000), 'file_path': 'FILEXXXX            '}\n"
     ]
    }
   ],
   "source": [
    "server = 'localhost' \n",
    "database = 'TestDB' \n",
    "username = 'sa' \n",
    "password = 'Password1#' \n",
    "cnxn = pyodbc.connect('DRIVER={ODBC Driver 17 for SQL Server};SERVER='+server+';DATABASE='+database+';UID='+username+';PWD='+ password)\n",
    "cursor = cnxn.cursor()\n",
    "\n",
    "rows = cursor.execute('SELECT * FROM citadel ')\n",
    "\n",
    "for row in rows :\n",
    "\n",
    "    items = [dict(zip([key[0] for key in cursor.description], row))  for row in rows ]\n",
    "\n",
    "    class DateTimeEncoder(json.JSONEncoder):\n",
    "        def default(self, z):\n",
    "            if isinstance(z, datetime.datetime):\n",
    "                return (str(z))\n",
    "            else:\n",
    "                return super().default(z)\n",
    "\n",
    "\n",
    "    for item in items:\n",
    "\n",
    "#       print (json.dumps( item, cls=DateTimeEncoder))\n",
    "        item_key=str(item[\"ext_acc\"]) \n",
    "        producer.send('excesscash_topic',key=item_key, value=item)\n",
    "        print (item_key, item)\n",
    "producer.flush()"
   ]
  },
  {
   "cell_type": "code",
   "execution_count": null,
   "id": "28c41cf5-2d73-4263-ad3a-91b7f105a02e",
   "metadata": {},
   "outputs": [],
   "source": []
  },
  {
   "cell_type": "code",
   "execution_count": null,
   "id": "3e9ced14-62c8-4652-91be-cd33257deaf9",
   "metadata": {},
   "outputs": [],
   "source": []
  }
 ],
 "metadata": {
  "kernelspec": {
   "display_name": "Python 3",
   "language": "python",
   "name": "python3"
  },
  "language_info": {
   "codemirror_mode": {
    "name": "ipython",
    "version": 3
   },
   "file_extension": ".py",
   "mimetype": "text/x-python",
   "name": "python",
   "nbconvert_exporter": "python",
   "pygments_lexer": "ipython3",
   "version": "3.8.10"
  }
 },
 "nbformat": 4,
 "nbformat_minor": 5
}
