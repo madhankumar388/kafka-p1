{
    "metadata": {
        "kernelspec": {
            "name": "SQL",
            "display_name": "SQL",
            "language": "sql"
        },
        "language_info": {
            "name": "sql",
            "version": ""
        }
    },
    "nbformat_minor": 2,
    "nbformat": 4,
    "cells": [
        {
            "cell_type": "code",
            "source": [
                " ALTER TABLE dbo.citadel ADD file_path CHAR(20) NULL;                                                                                                                                                                                                                                                                                                                                                                                                                                                                                                                                                                                                                                                                                                                                                                                                                                                                                                                                                                                                                                                                                                                                                                                                                                                                                                                                                                                                                                                                                                                                                                                                                                                                                                                                                                                                                                                                                                                                                                                                                                                                                                                                                                                                                                                                                                                                                                                                                                                                                                                                                                                                                                                                                                                                                                                                                                                                                                                                                                                                                                                                                                                                                                                                                                                           "
            ],
            "metadata": {
                "azdata_cell_guid": "54eccaf8-d140-4b7b-81fc-84e3259016f9"
            },
            "outputs": [],
            "execution_count": null
        },
        {
            "cell_type": "markdown",
            "source": [
                "docker run -e 'ACCEPT\\_EULA=Y' -e 'SA\\_PASSWORD=Scooby1#' -p 1433:1433 -d mcr.microsoft.com/mssql/server:2017-latest\n",
                "\n",
                "docker exec -it keen\\_nash /opt/mssql-tools/bin/sqlcmd -S localhost -U sa -P Scooby1#\n",
                "\n",
                "https://sqlplayer.net/2019/12/using-sql-server-on-docker/  \n",
                "\n",
                "https://hub.docker.com/r/dbeaver/cloudbeaver  \n",
                "\n",
                "https://docs.microsoft.com/en-us/sql/relational-databases/tables/add-columns-to-a-table-database-engine?view=sql-server-ver15  \n",
                "\n",
                "https://docs.microsoft.com/en-us/sql/t-sql/statements/disable-trigger-transact-sql?redirectedfrom=MSDN&view=sql-server-ver15  \n",
                "\n",
                "[Create a Database - SQL Server | Microsoft Docs](https://docs.microsoft.com/en-us/sql/relational-databases/databases/create-a-database?view=sql-server-ver15)  \n",
                "\n",
                "[Microsoft SQL Server (docker.com)](https://hub.docker.com/_/microsoft-mssql-server)  \n",
                "\n",
                "[Download and install Azure Data Studio - Azure Data Studio | Microsoft Docs](https://docs.microsoft.com/en-us/sql/azure-data-studio/download-azure-data-studio?view=sql-server-ver15)  \n",
                "\n",
                "[Docker: Install containers for SQL Server on Linux - SQL Server | Microsoft Docs](https://docs.microsoft.com/en-us/sql/linux/quickstart-install-connect-docker?view=sql-server-ver15&pivots=cs1-bash)  \n",
                "\n",
                "[Microsoft SQL Server (docker.com)](https://hub.docker.com/_/microsoft-mssql-server)"
            ],
            "metadata": {
                "azdata_cell_guid": "510efa5e-5695-4e0d-935a-ee162f4073a4"
            }
        },
        {
            "cell_type": "code",
            "source": [
                "                                                                                                                                                                                            CREATE TABLE citadel         (trade_date datetime, ext_acc INT, modified_by CHAR(7), currency char(7), amount float , modified_date datetime , file_path CHAR(20) NULL )\r\n",
                "CREATE TABLE citadel_deleted (trade_date datetime, ext_acc INT, modified_by CHAR(7), currency char(7), amount float , modified_date datetime , file_path CHAR(20) NULL )"
            ],
            "metadata": {
                "azdata_cell_guid": "f12ead7c-81bb-448a-97bd-37c43f08b717"
            },
            "outputs": [],
            "execution_count": null
        },
        {
            "cell_type": "code",
            "source": [
                "INSERT INTO citadel VALUES ('1-jan-2021', 1111, 'xceptor', 'USD', 100, SYSDATETIME(), 'FILE1') \r\n",
                "INSERT INTO citadel VALUES ('1-feb-2021', 2222, 'xceptor', 'USD', 200, SYSDATETIME(), 'FILE1')\r\n",
                "INSERT INTO citadel VALUES ('1-mar-2021', 3333, 'xceptor', 'USD', 300, SYSDATETIME(), 'FILE1')\r\n",
                "INSERT INTO citadel VALUES ('1-apr-2021', 4444, 'xceptor', 'USD', 400, SYSDATETIME(), 'FILE1')\r\n",
                "INSERT INTO citadel VALUES ('1-may-2021', 5555, 'xceptor', 'USD', 500, SYSDATETIME(), 'FILE1')\r\n",
                "INSERT INTO citadel VALUES ('1-jun-2021', 6666, 'xdo', 'USD', 600, SYSDATETIME(), 'FILE1')                                                                                                                                                                                                                                                                                                                                                                                                                                                                                                                                                                                                                                                                                                                                                                                                                                                                                                                                                                                                                                                                                                                                                                                                                                                                                                                                                                                                                                                                                                                                                                                                                                                                                                                                                                                                      \r\n",
                "INSERT INTO citadel VALUES ('1-jul-2021', 7777, 'xdo', 'USD', 700, SYSDATETIME(), 'FILE1')"
            ],
            "metadata": {
                "azdata_cell_guid": "29edc0d2-b9a7-4288-94de-7ec895adc7ec"
            },
            "outputs": [],
            "execution_count": null
        },
        {
            "cell_type": "code",
            "source": [
                "DISABLE TRIGGER backup_citadel_deleted ON TestDB.dbo.citadel; \r\n",
                "DISABLE TRIGGER trig_delete_citadel ON TestDB.dbo.citadel; "
            ],
            "metadata": {
                "azdata_cell_guid": "01683b70-8128-4c61-a0ee-ab0851dc67de"
            },
            "outputs": [
                {
                    "output_type": "display_data",
                    "data": {
                        "text/html": "Commands completed successfully."
                    },
                    "metadata": {}
                },
                {
                    "output_type": "display_data",
                    "data": {
                        "text/html": "Total execution time: 00:00:00.004"
                    },
                    "metadata": {}
                }
            ],
            "execution_count": 4
        },
        {
            "cell_type": "code",
            "source": [
                "ENABLE TRIGGER backup_citadel_deleted ON TestDB.dbo.citadel; \r\n",
                "ENABLE TRIGGER trig_delete_citadel ON TestDB.dbo.citadel; "
            ],
            "metadata": {
                "azdata_cell_guid": "7c57f802-a7a1-4f94-8b18-2c3adb343388"
            },
            "outputs": [
                {
                    "output_type": "display_data",
                    "data": {
                        "text/html": "Commands completed successfully."
                    },
                    "metadata": {}
                },
                {
                    "output_type": "display_data",
                    "data": {
                        "text/html": "Total execution time: 00:00:00.005"
                    },
                    "metadata": {}
                }
            ],
            "execution_count": 2
        },
        {
            "cell_type": "code",
            "source": [
                "SELECT * FROM citadel \r\n",
                "SELECT * FROM citadel_deleted"
            ],
            "metadata": {
                "azdata_cell_guid": "296a27a6-9aa6-4c96-8b6b-091f4477d903"
            },
            "outputs": [
                {
                    "output_type": "display_data",
                    "data": {
                        "text/html": "(10 rows affected)"
                    },
                    "metadata": {}
                },
                {
                    "output_type": "display_data",
                    "data": {
                        "text/html": "(32 rows affected)"
                    },
                    "metadata": {}
                },
                {
                    "output_type": "display_data",
                    "data": {
                        "text/html": "Total execution time: 00:00:00.044"
                    },
                    "metadata": {}
                },
                {
                    "output_type": "execute_result",
                    "metadata": {},
                    "execution_count": 1,
                    "data": {
                        "application/vnd.dataresource+json": {
                            "schema": {
                                "fields": [
                                    {
                                        "name": "trade_date"
                                    },
                                    {
                                        "name": "ext_acc"
                                    },
                                    {
                                        "name": "modified_by"
                                    },
                                    {
                                        "name": "currency"
                                    },
                                    {
                                        "name": "amount"
                                    },
                                    {
                                        "name": "modified_date"
                                    },
                                    {
                                        "name": "file_path"
                                    }
                                ]
                            },
                            "data": [
                                {
                                    "0": "2021-01-01 00:00:00.000",
                                    "1": "1111",
                                    "2": "xceptor",
                                    "3": "USD    ",
                                    "4": "100",
                                    "5": "2021-06-11 23:27:31.300",
                                    "6": "FILE1               "
                                },
                                {
                                    "0": "2021-01-01 00:00:00.000",
                                    "1": "1111",
                                    "2": "xceptor",
                                    "3": "USD    ",
                                    "4": "100",
                                    "5": "2021-06-11 23:29:28.760",
                                    "6": "FILE2               "
                                },
                                {
                                    "0": "2021-02-01 00:00:00.000",
                                    "1": "2222",
                                    "2": "xceptor",
                                    "3": "USD    ",
                                    "4": "200",
                                    "5": "2021-06-11 23:29:28.763",
                                    "6": "FILE3               "
                                },
                                {
                                    "0": "2021-03-01 00:00:00.000",
                                    "1": "3333",
                                    "2": "xceptor",
                                    "3": "USD    ",
                                    "4": "300",
                                    "5": "2021-06-11 23:29:28.767",
                                    "6": "FILE4               "
                                },
                                {
                                    "0": "2021-04-01 00:00:00.000",
                                    "1": "4444",
                                    "2": "xceptor",
                                    "3": "USD    ",
                                    "4": "400",
                                    "5": "2021-06-11 23:29:28.767",
                                    "6": "FILE5               "
                                },
                                {
                                    "0": "2021-05-01 00:00:00.000",
                                    "1": "5555",
                                    "2": "xceptor",
                                    "3": "EUR    ",
                                    "4": "55356",
                                    "5": "2021-06-14 15:48:51.873",
                                    "6": "FILEXXXX            "
                                },
                                {
                                    "0": "2021-06-01 00:00:00.000",
                                    "1": "6666",
                                    "2": "xdo    ",
                                    "3": "USD    ",
                                    "4": "600",
                                    "5": "2021-06-11 23:29:28.777",
                                    "6": "FILE7               "
                                },
                                {
                                    "0": "2021-07-01 00:00:00.000",
                                    "1": "7777",
                                    "2": "xdo    ",
                                    "3": "USD    ",
                                    "4": "700",
                                    "5": "2021-06-11 23:29:28.780",
                                    "6": "FILE8               "
                                },
                                {
                                    "0": "2021-08-01 00:00:00.000",
                                    "1": "8888",
                                    "2": "xdo    ",
                                    "3": "USD    ",
                                    "4": "800",
                                    "5": "2021-06-11 23:29:28.800",
                                    "6": "FILE9               "
                                },
                                {
                                    "0": "2021-05-01 00:00:00.000",
                                    "1": "5555",
                                    "2": "xceptor",
                                    "3": "SAR    ",
                                    "4": "55356",
                                    "5": "2021-06-14 15:48:51.880",
                                    "6": "FILEXXXX            "
                                }
                            ]
                        },
                        "text/html": [
                            "<table>",
                            "<tr><th>trade_date</th><th>ext_acc</th><th>modified_by</th><th>currency</th><th>amount</th><th>modified_date</th><th>file_path</th></tr>",
                            "<tr><td>2021-01-01 00:00:00.000</td><td>1111</td><td>xceptor</td><td>USD    </td><td>100</td><td>2021-06-11 23:27:31.300</td><td>FILE1               </td></tr>",
                            "<tr><td>2021-01-01 00:00:00.000</td><td>1111</td><td>xceptor</td><td>USD    </td><td>100</td><td>2021-06-11 23:29:28.760</td><td>FILE2               </td></tr>",
                            "<tr><td>2021-02-01 00:00:00.000</td><td>2222</td><td>xceptor</td><td>USD    </td><td>200</td><td>2021-06-11 23:29:28.763</td><td>FILE3               </td></tr>",
                            "<tr><td>2021-03-01 00:00:00.000</td><td>3333</td><td>xceptor</td><td>USD    </td><td>300</td><td>2021-06-11 23:29:28.767</td><td>FILE4               </td></tr>",
                            "<tr><td>2021-04-01 00:00:00.000</td><td>4444</td><td>xceptor</td><td>USD    </td><td>400</td><td>2021-06-11 23:29:28.767</td><td>FILE5               </td></tr>",
                            "<tr><td>2021-05-01 00:00:00.000</td><td>5555</td><td>xceptor</td><td>EUR    </td><td>55356</td><td>2021-06-14 15:48:51.873</td><td>FILEXXXX            </td></tr>",
                            "<tr><td>2021-06-01 00:00:00.000</td><td>6666</td><td>xdo    </td><td>USD    </td><td>600</td><td>2021-06-11 23:29:28.777</td><td>FILE7               </td></tr>",
                            "<tr><td>2021-07-01 00:00:00.000</td><td>7777</td><td>xdo    </td><td>USD    </td><td>700</td><td>2021-06-11 23:29:28.780</td><td>FILE8               </td></tr>",
                            "<tr><td>2021-08-01 00:00:00.000</td><td>8888</td><td>xdo    </td><td>USD    </td><td>800</td><td>2021-06-11 23:29:28.800</td><td>FILE9               </td></tr>",
                            "<tr><td>2021-05-01 00:00:00.000</td><td>5555</td><td>xceptor</td><td>SAR    </td><td>55356</td><td>2021-06-14 15:48:51.880</td><td>FILEXXXX            </td></tr>",
                            "</table>"
                        ]
                    }
                },
                {
                    "output_type": "execute_result",
                    "metadata": {},
                    "execution_count": 1,
                    "data": {
                        "application/vnd.dataresource+json": {
                            "schema": {
                                "fields": [
                                    {
                                        "name": "trade_date"
                                    },
                                    {
                                        "name": "ext_acc"
                                    },
                                    {
                                        "name": "modified_by"
                                    },
                                    {
                                        "name": "currency"
                                    },
                                    {
                                        "name": "amount"
                                    },
                                    {
                                        "name": "modified_date"
                                    },
                                    {
                                        "name": "file_path"
                                    }
                                ]
                            },
                            "data": [
                                {
                                    "0": "2021-05-01 00:00:00.000",
                                    "1": "5555",
                                    "2": "xceptor",
                                    "3": "USD    ",
                                    "4": "55356",
                                    "5": "2021-06-12 01:58:05.827",
                                    "6": "FILEB               "
                                },
                                {
                                    "0": "2021-05-01 00:00:00.000",
                                    "1": "5555",
                                    "2": "xceptor",
                                    "3": "AUD    ",
                                    "4": "55356",
                                    "5": "2021-06-12 01:58:05.837",
                                    "6": "FILEB               "
                                },
                                {
                                    "0": "2021-05-01 00:00:00.000",
                                    "1": "5555",
                                    "2": "xceptor",
                                    "3": "ZAP    ",
                                    "4": "55456",
                                    "5": "2021-06-12 01:58:05.840",
                                    "6": "FILEB               "
                                },
                                {
                                    "0": "2021-05-01 00:00:00.000",
                                    "1": "5555",
                                    "2": "xceptor",
                                    "3": "MOK    ",
                                    "4": "55356",
                                    "5": "2021-06-12 01:58:05.843",
                                    "6": "FILEB               "
                                },
                                {
                                    "0": "2021-05-01 00:00:00.000",
                                    "1": "5555",
                                    "2": "xceptor",
                                    "3": "ZUL    ",
                                    "4": "53556",
                                    "5": "2021-06-12 01:58:05.847",
                                    "6": "FILEB               "
                                },
                                {
                                    "0": "2021-05-01 00:00:00.000",
                                    "1": "5555",
                                    "2": "xceptor",
                                    "3": "XYZ    ",
                                    "4": "55356",
                                    "5": "2021-06-12 01:58:05.853",
                                    "6": "FILEB               "
                                },
                                {
                                    "0": "2021-05-01 00:00:00.000",
                                    "1": "5555",
                                    "2": "xceptor",
                                    "3": "USD    ",
                                    "4": "55356",
                                    "5": "2021-06-12 02:03:59.283",
                                    "6": "FILEG               "
                                },
                                {
                                    "0": "2021-05-01 00:00:00.000",
                                    "1": "5555",
                                    "2": "xceptor",
                                    "3": "USD    ",
                                    "4": "55356",
                                    "5": "2021-06-12 02:07:59.093",
                                    "6": "FILEG               "
                                },
                                {
                                    "0": "2021-05-01 00:00:00.000",
                                    "1": "5555",
                                    "2": "xceptor",
                                    "3": "USD    ",
                                    "4": "55356",
                                    "5": "2021-06-12 02:08:37.893",
                                    "6": "FILEH               "
                                },
                                {
                                    "0": "2021-05-01 00:00:00.000",
                                    "1": "5555",
                                    "2": "xceptor",
                                    "3": "XYZ    ",
                                    "4": "55356",
                                    "5": "2021-06-12 02:46:59.897",
                                    "6": "FILEB               "
                                },
                                {
                                    "0": "2021-05-01 00:00:00.000",
                                    "1": "5555",
                                    "2": "xceptor",
                                    "3": "ZUL    ",
                                    "4": "53556",
                                    "5": "2021-06-12 02:46:59.890",
                                    "6": "FILEB               "
                                },
                                {
                                    "0": "2021-05-01 00:00:00.000",
                                    "1": "5555",
                                    "2": "xceptor",
                                    "3": "MOK    ",
                                    "4": "55356",
                                    "5": "2021-06-12 02:46:59.887",
                                    "6": "FILEB               "
                                },
                                {
                                    "0": "2021-05-01 00:00:00.000",
                                    "1": "5555",
                                    "2": "xceptor",
                                    "3": "ZAP    ",
                                    "4": "55456",
                                    "5": "2021-06-12 02:46:59.883",
                                    "6": "FILEB               "
                                },
                                {
                                    "0": "2021-05-01 00:00:00.000",
                                    "1": "5555",
                                    "2": "xceptor",
                                    "3": "AUD    ",
                                    "4": "55356",
                                    "5": "2021-06-12 02:46:59.880",
                                    "6": "FILEB               "
                                },
                                {
                                    "0": "2021-05-01 00:00:00.000",
                                    "1": "5555",
                                    "2": "xceptor",
                                    "3": "USD    ",
                                    "4": "55356",
                                    "5": "2021-06-12 02:46:59.870",
                                    "6": "FILEB               "
                                },
                                {
                                    "0": "2021-05-01 00:00:00.000",
                                    "1": "5555",
                                    "2": "xceptor",
                                    "3": "USD    ",
                                    "4": "55356",
                                    "5": "2021-06-12 02:50:37.123",
                                    "6": "FILEH               "
                                },
                                {
                                    "0": "2021-05-01 00:00:00.000",
                                    "1": "5555",
                                    "2": "xceptor",
                                    "3": "USD    ",
                                    "4": "55356",
                                    "5": "2021-06-12 02:50:36.023",
                                    "6": "FILEH               "
                                },
                                {
                                    "0": "2021-05-01 00:00:00.000",
                                    "1": "5555",
                                    "2": "xceptor",
                                    "3": "USD    ",
                                    "4": "55356",
                                    "5": "2021-06-12 02:50:34.987",
                                    "6": "FILEH               "
                                },
                                {
                                    "0": "2021-05-01 00:00:00.000",
                                    "1": "5555",
                                    "2": "xceptor",
                                    "3": "USD    ",
                                    "4": "55356",
                                    "5": "2021-06-12 02:50:33.957",
                                    "6": "FILEH               "
                                },
                                {
                                    "0": "2021-05-01 00:00:00.000",
                                    "1": "5555",
                                    "2": "xceptor",
                                    "3": "USD    ",
                                    "4": "55356",
                                    "5": "2021-06-12 02:50:32.713",
                                    "6": "FILEH               "
                                },
                                {
                                    "0": "2021-05-01 00:00:00.000",
                                    "1": "5555",
                                    "2": "xceptor",
                                    "3": "USD    ",
                                    "4": "55356",
                                    "5": "2021-06-12 02:49:56.820",
                                    "6": "FILEH               "
                                },
                                {
                                    "0": "2021-05-01 00:00:00.000",
                                    "1": "5555",
                                    "2": "xceptor",
                                    "3": "USD    ",
                                    "4": "55356",
                                    "5": "2021-06-13 20:55:16.393",
                                    "6": "FILEX               "
                                },
                                {
                                    "0": "2021-05-01 00:00:00.000",
                                    "1": "5555",
                                    "2": "xceptor",
                                    "3": "USD    ",
                                    "4": "55356",
                                    "5": "2021-06-13 20:35:03.883",
                                    "6": "FILEX               "
                                },
                                {
                                    "0": "2021-05-01 00:00:00.000",
                                    "1": "5555",
                                    "2": "xceptor",
                                    "3": "USD    ",
                                    "4": "55356",
                                    "5": "2021-06-13 20:55:49.453",
                                    "6": "FILEZ               "
                                },
                                {
                                    "0": "2021-05-01 00:00:00.000",
                                    "1": "5555",
                                    "2": "xceptor",
                                    "3": "XYZ    ",
                                    "4": "55356",
                                    "5": "2021-06-13 20:57:30.643",
                                    "6": "FILEB               "
                                },
                                {
                                    "0": "2021-05-01 00:00:00.000",
                                    "1": "5555",
                                    "2": "xceptor",
                                    "3": "ZUL    ",
                                    "4": "53556",
                                    "5": "2021-06-13 20:57:30.640",
                                    "6": "FILEB               "
                                },
                                {
                                    "0": "2021-05-01 00:00:00.000",
                                    "1": "5555",
                                    "2": "xceptor",
                                    "3": "MOK    ",
                                    "4": "55356",
                                    "5": "2021-06-13 20:57:30.640",
                                    "6": "FILEB               "
                                },
                                {
                                    "0": "2021-05-01 00:00:00.000",
                                    "1": "5555",
                                    "2": "xceptor",
                                    "3": "ZAP    ",
                                    "4": "55456",
                                    "5": "2021-06-13 20:57:30.637",
                                    "6": "FILEB               "
                                },
                                {
                                    "0": "2021-05-01 00:00:00.000",
                                    "1": "5555",
                                    "2": "xceptor",
                                    "3": "AUD    ",
                                    "4": "55356",
                                    "5": "2021-06-13 20:57:30.633",
                                    "6": "FILEB               "
                                },
                                {
                                    "0": "2021-05-01 00:00:00.000",
                                    "1": "5555",
                                    "2": "xceptor",
                                    "3": "USD    ",
                                    "4": "55356",
                                    "5": "2021-06-13 20:57:30.627",
                                    "6": "FILEB               "
                                },
                                {
                                    "0": "2021-05-01 00:00:00.000",
                                    "1": "5555",
                                    "2": "xceptor",
                                    "3": "SGD    ",
                                    "4": "55356",
                                    "5": "2021-06-14 15:46:47.047",
                                    "6": "FILEABCD            "
                                },
                                {
                                    "0": "2021-05-01 00:00:00.000",
                                    "1": "5555",
                                    "2": "xceptor",
                                    "3": "USD    ",
                                    "4": "55356",
                                    "5": "2021-06-14 15:42:59.033",
                                    "6": "FILEABCD            "
                                }
                            ]
                        },
                        "text/html": [
                            "<table>",
                            "<tr><th>trade_date</th><th>ext_acc</th><th>modified_by</th><th>currency</th><th>amount</th><th>modified_date</th><th>file_path</th></tr>",
                            "<tr><td>2021-05-01 00:00:00.000</td><td>5555</td><td>xceptor</td><td>USD    </td><td>55356</td><td>2021-06-12 01:58:05.827</td><td>FILEB               </td></tr>",
                            "<tr><td>2021-05-01 00:00:00.000</td><td>5555</td><td>xceptor</td><td>AUD    </td><td>55356</td><td>2021-06-12 01:58:05.837</td><td>FILEB               </td></tr>",
                            "<tr><td>2021-05-01 00:00:00.000</td><td>5555</td><td>xceptor</td><td>ZAP    </td><td>55456</td><td>2021-06-12 01:58:05.840</td><td>FILEB               </td></tr>",
                            "<tr><td>2021-05-01 00:00:00.000</td><td>5555</td><td>xceptor</td><td>MOK    </td><td>55356</td><td>2021-06-12 01:58:05.843</td><td>FILEB               </td></tr>",
                            "<tr><td>2021-05-01 00:00:00.000</td><td>5555</td><td>xceptor</td><td>ZUL    </td><td>53556</td><td>2021-06-12 01:58:05.847</td><td>FILEB               </td></tr>",
                            "<tr><td>2021-05-01 00:00:00.000</td><td>5555</td><td>xceptor</td><td>XYZ    </td><td>55356</td><td>2021-06-12 01:58:05.853</td><td>FILEB               </td></tr>",
                            "<tr><td>2021-05-01 00:00:00.000</td><td>5555</td><td>xceptor</td><td>USD    </td><td>55356</td><td>2021-06-12 02:03:59.283</td><td>FILEG               </td></tr>",
                            "<tr><td>2021-05-01 00:00:00.000</td><td>5555</td><td>xceptor</td><td>USD    </td><td>55356</td><td>2021-06-12 02:07:59.093</td><td>FILEG               </td></tr>",
                            "<tr><td>2021-05-01 00:00:00.000</td><td>5555</td><td>xceptor</td><td>USD    </td><td>55356</td><td>2021-06-12 02:08:37.893</td><td>FILEH               </td></tr>",
                            "<tr><td>2021-05-01 00:00:00.000</td><td>5555</td><td>xceptor</td><td>XYZ    </td><td>55356</td><td>2021-06-12 02:46:59.897</td><td>FILEB               </td></tr>",
                            "<tr><td>2021-05-01 00:00:00.000</td><td>5555</td><td>xceptor</td><td>ZUL    </td><td>53556</td><td>2021-06-12 02:46:59.890</td><td>FILEB               </td></tr>",
                            "<tr><td>2021-05-01 00:00:00.000</td><td>5555</td><td>xceptor</td><td>MOK    </td><td>55356</td><td>2021-06-12 02:46:59.887</td><td>FILEB               </td></tr>",
                            "<tr><td>2021-05-01 00:00:00.000</td><td>5555</td><td>xceptor</td><td>ZAP    </td><td>55456</td><td>2021-06-12 02:46:59.883</td><td>FILEB               </td></tr>",
                            "<tr><td>2021-05-01 00:00:00.000</td><td>5555</td><td>xceptor</td><td>AUD    </td><td>55356</td><td>2021-06-12 02:46:59.880</td><td>FILEB               </td></tr>",
                            "<tr><td>2021-05-01 00:00:00.000</td><td>5555</td><td>xceptor</td><td>USD    </td><td>55356</td><td>2021-06-12 02:46:59.870</td><td>FILEB               </td></tr>",
                            "<tr><td>2021-05-01 00:00:00.000</td><td>5555</td><td>xceptor</td><td>USD    </td><td>55356</td><td>2021-06-12 02:50:37.123</td><td>FILEH               </td></tr>",
                            "<tr><td>2021-05-01 00:00:00.000</td><td>5555</td><td>xceptor</td><td>USD    </td><td>55356</td><td>2021-06-12 02:50:36.023</td><td>FILEH               </td></tr>",
                            "<tr><td>2021-05-01 00:00:00.000</td><td>5555</td><td>xceptor</td><td>USD    </td><td>55356</td><td>2021-06-12 02:50:34.987</td><td>FILEH               </td></tr>",
                            "<tr><td>2021-05-01 00:00:00.000</td><td>5555</td><td>xceptor</td><td>USD    </td><td>55356</td><td>2021-06-12 02:50:33.957</td><td>FILEH               </td></tr>",
                            "<tr><td>2021-05-01 00:00:00.000</td><td>5555</td><td>xceptor</td><td>USD    </td><td>55356</td><td>2021-06-12 02:50:32.713</td><td>FILEH               </td></tr>",
                            "<tr><td>2021-05-01 00:00:00.000</td><td>5555</td><td>xceptor</td><td>USD    </td><td>55356</td><td>2021-06-12 02:49:56.820</td><td>FILEH               </td></tr>",
                            "<tr><td>2021-05-01 00:00:00.000</td><td>5555</td><td>xceptor</td><td>USD    </td><td>55356</td><td>2021-06-13 20:55:16.393</td><td>FILEX               </td></tr>",
                            "<tr><td>2021-05-01 00:00:00.000</td><td>5555</td><td>xceptor</td><td>USD    </td><td>55356</td><td>2021-06-13 20:35:03.883</td><td>FILEX               </td></tr>",
                            "<tr><td>2021-05-01 00:00:00.000</td><td>5555</td><td>xceptor</td><td>USD    </td><td>55356</td><td>2021-06-13 20:55:49.453</td><td>FILEZ               </td></tr>",
                            "<tr><td>2021-05-01 00:00:00.000</td><td>5555</td><td>xceptor</td><td>XYZ    </td><td>55356</td><td>2021-06-13 20:57:30.643</td><td>FILEB               </td></tr>",
                            "<tr><td>2021-05-01 00:00:00.000</td><td>5555</td><td>xceptor</td><td>ZUL    </td><td>53556</td><td>2021-06-13 20:57:30.640</td><td>FILEB               </td></tr>",
                            "<tr><td>2021-05-01 00:00:00.000</td><td>5555</td><td>xceptor</td><td>MOK    </td><td>55356</td><td>2021-06-13 20:57:30.640</td><td>FILEB               </td></tr>",
                            "<tr><td>2021-05-01 00:00:00.000</td><td>5555</td><td>xceptor</td><td>ZAP    </td><td>55456</td><td>2021-06-13 20:57:30.637</td><td>FILEB               </td></tr>",
                            "<tr><td>2021-05-01 00:00:00.000</td><td>5555</td><td>xceptor</td><td>AUD    </td><td>55356</td><td>2021-06-13 20:57:30.633</td><td>FILEB               </td></tr>",
                            "<tr><td>2021-05-01 00:00:00.000</td><td>5555</td><td>xceptor</td><td>USD    </td><td>55356</td><td>2021-06-13 20:57:30.627</td><td>FILEB               </td></tr>",
                            "<tr><td>2021-05-01 00:00:00.000</td><td>5555</td><td>xceptor</td><td>SGD    </td><td>55356</td><td>2021-06-14 15:46:47.047</td><td>FILEABCD            </td></tr>",
                            "<tr><td>2021-05-01 00:00:00.000</td><td>5555</td><td>xceptor</td><td>USD    </td><td>55356</td><td>2021-06-14 15:42:59.033</td><td>FILEABCD            </td></tr>",
                            "</table>"
                        ]
                    }
                }
            ],
            "execution_count": 1
        },
        {
            "cell_type": "code",
            "source": [
                "SELECT * FROM citadel \r\n",
                "SELECT * FROM citadel_deleted"
            ],
            "metadata": {
                "azdata_cell_guid": "852c3667-293a-403b-a879-4fe90c4f589d"
            },
            "outputs": [
                {
                    "output_type": "display_data",
                    "data": {
                        "text/html": "(10 rows affected)"
                    },
                    "metadata": {}
                },
                {
                    "output_type": "display_data",
                    "data": {
                        "text/html": "(21 rows affected)"
                    },
                    "metadata": {}
                },
                {
                    "output_type": "display_data",
                    "data": {
                        "text/html": "Total execution time: 00:00:00.016"
                    },
                    "metadata": {}
                },
                {
                    "output_type": "execute_result",
                    "execution_count": 14,
                    "data": {
                        "application/vnd.dataresource+json": {
                            "schema": {
                                "fields": [
                                    {
                                        "name": "trade_date"
                                    },
                                    {
                                        "name": "ext_acc"
                                    },
                                    {
                                        "name": "modified_by"
                                    },
                                    {
                                        "name": "currency"
                                    },
                                    {
                                        "name": "amount"
                                    },
                                    {
                                        "name": "modified_date"
                                    },
                                    {
                                        "name": "file_path"
                                    }
                                ]
                            },
                            "data": [
                                {
                                    "0": "2021-01-01 00:00:00.000",
                                    "1": "1111",
                                    "2": "xceptor",
                                    "3": "USD    ",
                                    "4": "100",
                                    "5": "2021-06-11 23:27:31.300",
                                    "6": "FILE1               "
                                },
                                {
                                    "0": "2021-01-01 00:00:00.000",
                                    "1": "1111",
                                    "2": "xceptor",
                                    "3": "USD    ",
                                    "4": "100",
                                    "5": "2021-06-11 23:29:28.760",
                                    "6": "FILE2               "
                                },
                                {
                                    "0": "2021-02-01 00:00:00.000",
                                    "1": "2222",
                                    "2": "xceptor",
                                    "3": "USD    ",
                                    "4": "200",
                                    "5": "2021-06-11 23:29:28.763",
                                    "6": "FILE3               "
                                },
                                {
                                    "0": "2021-03-01 00:00:00.000",
                                    "1": "3333",
                                    "2": "xceptor",
                                    "3": "USD    ",
                                    "4": "300",
                                    "5": "2021-06-11 23:29:28.767",
                                    "6": "FILE4               "
                                },
                                {
                                    "0": "2021-04-01 00:00:00.000",
                                    "1": "4444",
                                    "2": "xceptor",
                                    "3": "USD    ",
                                    "4": "400",
                                    "5": "2021-06-11 23:29:28.767",
                                    "6": "FILE5               "
                                },
                                {
                                    "0": "2021-05-01 00:00:00.000",
                                    "1": "5555",
                                    "2": "xceptor",
                                    "3": "USD    ",
                                    "4": "55356",
                                    "5": "2021-06-13 20:35:03.883",
                                    "6": "FILEX               "
                                },
                                {
                                    "0": "2021-06-01 00:00:00.000",
                                    "1": "6666",
                                    "2": "xdo    ",
                                    "3": "USD    ",
                                    "4": "600",
                                    "5": "2021-06-11 23:29:28.777",
                                    "6": "FILE7               "
                                },
                                {
                                    "0": "2021-07-01 00:00:00.000",
                                    "1": "7777",
                                    "2": "xdo    ",
                                    "3": "USD    ",
                                    "4": "700",
                                    "5": "2021-06-11 23:29:28.780",
                                    "6": "FILE8               "
                                },
                                {
                                    "0": "2021-08-01 00:00:00.000",
                                    "1": "8888",
                                    "2": "xdo    ",
                                    "3": "USD    ",
                                    "4": "800",
                                    "5": "2021-06-11 23:29:28.800",
                                    "6": "FILE9               "
                                },
                                {
                                    "0": "2021-05-01 00:00:00.000",
                                    "1": "5555",
                                    "2": "xceptor",
                                    "3": "USD    ",
                                    "4": "55356",
                                    "5": "2021-06-13 20:55:16.393",
                                    "6": "FILEX               "
                                }
                            ]
                        },
                        "text/html": "<table><tr><th>trade_date</th><th>ext_acc</th><th>modified_by</th><th>currency</th><th>amount</th><th>modified_date</th><th>file_path</th></tr><tr><td>2021-01-01 00:00:00.000</td><td>1111</td><td>xceptor</td><td>USD    </td><td>100</td><td>2021-06-11 23:27:31.300</td><td>FILE1               </td></tr><tr><td>2021-01-01 00:00:00.000</td><td>1111</td><td>xceptor</td><td>USD    </td><td>100</td><td>2021-06-11 23:29:28.760</td><td>FILE2               </td></tr><tr><td>2021-02-01 00:00:00.000</td><td>2222</td><td>xceptor</td><td>USD    </td><td>200</td><td>2021-06-11 23:29:28.763</td><td>FILE3               </td></tr><tr><td>2021-03-01 00:00:00.000</td><td>3333</td><td>xceptor</td><td>USD    </td><td>300</td><td>2021-06-11 23:29:28.767</td><td>FILE4               </td></tr><tr><td>2021-04-01 00:00:00.000</td><td>4444</td><td>xceptor</td><td>USD    </td><td>400</td><td>2021-06-11 23:29:28.767</td><td>FILE5               </td></tr><tr><td>2021-05-01 00:00:00.000</td><td>5555</td><td>xceptor</td><td>USD    </td><td>55356</td><td>2021-06-13 20:35:03.883</td><td>FILEX               </td></tr><tr><td>2021-06-01 00:00:00.000</td><td>6666</td><td>xdo    </td><td>USD    </td><td>600</td><td>2021-06-11 23:29:28.777</td><td>FILE7               </td></tr><tr><td>2021-07-01 00:00:00.000</td><td>7777</td><td>xdo    </td><td>USD    </td><td>700</td><td>2021-06-11 23:29:28.780</td><td>FILE8               </td></tr><tr><td>2021-08-01 00:00:00.000</td><td>8888</td><td>xdo    </td><td>USD    </td><td>800</td><td>2021-06-11 23:29:28.800</td><td>FILE9               </td></tr><tr><td>2021-05-01 00:00:00.000</td><td>5555</td><td>xceptor</td><td>USD    </td><td>55356</td><td>2021-06-13 20:55:16.393</td><td>FILEX               </td></tr></table>"
                    },
                    "metadata": {}
                },
                {
                    "output_type": "execute_result",
                    "execution_count": 14,
                    "data": {
                        "application/vnd.dataresource+json": {
                            "schema": {
                                "fields": [
                                    {
                                        "name": "trade_date"
                                    },
                                    {
                                        "name": "ext_acc"
                                    },
                                    {
                                        "name": "modified_by"
                                    },
                                    {
                                        "name": "currency"
                                    },
                                    {
                                        "name": "amount"
                                    },
                                    {
                                        "name": "modified_date"
                                    },
                                    {
                                        "name": "file_path"
                                    }
                                ]
                            },
                            "data": [
                                {
                                    "0": "2021-05-01 00:00:00.000",
                                    "1": "5555",
                                    "2": "xceptor",
                                    "3": "USD    ",
                                    "4": "55356",
                                    "5": "2021-06-12 01:58:05.827",
                                    "6": "FILEB               "
                                },
                                {
                                    "0": "2021-05-01 00:00:00.000",
                                    "1": "5555",
                                    "2": "xceptor",
                                    "3": "AUD    ",
                                    "4": "55356",
                                    "5": "2021-06-12 01:58:05.837",
                                    "6": "FILEB               "
                                },
                                {
                                    "0": "2021-05-01 00:00:00.000",
                                    "1": "5555",
                                    "2": "xceptor",
                                    "3": "ZAP    ",
                                    "4": "55456",
                                    "5": "2021-06-12 01:58:05.840",
                                    "6": "FILEB               "
                                },
                                {
                                    "0": "2021-05-01 00:00:00.000",
                                    "1": "5555",
                                    "2": "xceptor",
                                    "3": "MOK    ",
                                    "4": "55356",
                                    "5": "2021-06-12 01:58:05.843",
                                    "6": "FILEB               "
                                },
                                {
                                    "0": "2021-05-01 00:00:00.000",
                                    "1": "5555",
                                    "2": "xceptor",
                                    "3": "ZUL    ",
                                    "4": "53556",
                                    "5": "2021-06-12 01:58:05.847",
                                    "6": "FILEB               "
                                },
                                {
                                    "0": "2021-05-01 00:00:00.000",
                                    "1": "5555",
                                    "2": "xceptor",
                                    "3": "XYZ    ",
                                    "4": "55356",
                                    "5": "2021-06-12 01:58:05.853",
                                    "6": "FILEB               "
                                },
                                {
                                    "0": "2021-05-01 00:00:00.000",
                                    "1": "5555",
                                    "2": "xceptor",
                                    "3": "USD    ",
                                    "4": "55356",
                                    "5": "2021-06-12 02:03:59.283",
                                    "6": "FILEG               "
                                },
                                {
                                    "0": "2021-05-01 00:00:00.000",
                                    "1": "5555",
                                    "2": "xceptor",
                                    "3": "USD    ",
                                    "4": "55356",
                                    "5": "2021-06-12 02:07:59.093",
                                    "6": "FILEG               "
                                },
                                {
                                    "0": "2021-05-01 00:00:00.000",
                                    "1": "5555",
                                    "2": "xceptor",
                                    "3": "USD    ",
                                    "4": "55356",
                                    "5": "2021-06-12 02:08:37.893",
                                    "6": "FILEH               "
                                },
                                {
                                    "0": "2021-05-01 00:00:00.000",
                                    "1": "5555",
                                    "2": "xceptor",
                                    "3": "XYZ    ",
                                    "4": "55356",
                                    "5": "2021-06-12 02:46:59.897",
                                    "6": "FILEB               "
                                },
                                {
                                    "0": "2021-05-01 00:00:00.000",
                                    "1": "5555",
                                    "2": "xceptor",
                                    "3": "ZUL    ",
                                    "4": "53556",
                                    "5": "2021-06-12 02:46:59.890",
                                    "6": "FILEB               "
                                },
                                {
                                    "0": "2021-05-01 00:00:00.000",
                                    "1": "5555",
                                    "2": "xceptor",
                                    "3": "MOK    ",
                                    "4": "55356",
                                    "5": "2021-06-12 02:46:59.887",
                                    "6": "FILEB               "
                                },
                                {
                                    "0": "2021-05-01 00:00:00.000",
                                    "1": "5555",
                                    "2": "xceptor",
                                    "3": "ZAP    ",
                                    "4": "55456",
                                    "5": "2021-06-12 02:46:59.883",
                                    "6": "FILEB               "
                                },
                                {
                                    "0": "2021-05-01 00:00:00.000",
                                    "1": "5555",
                                    "2": "xceptor",
                                    "3": "AUD    ",
                                    "4": "55356",
                                    "5": "2021-06-12 02:46:59.880",
                                    "6": "FILEB               "
                                },
                                {
                                    "0": "2021-05-01 00:00:00.000",
                                    "1": "5555",
                                    "2": "xceptor",
                                    "3": "USD    ",
                                    "4": "55356",
                                    "5": "2021-06-12 02:46:59.870",
                                    "6": "FILEB               "
                                },
                                {
                                    "0": "2021-05-01 00:00:00.000",
                                    "1": "5555",
                                    "2": "xceptor",
                                    "3": "USD    ",
                                    "4": "55356",
                                    "5": "2021-06-12 02:50:37.123",
                                    "6": "FILEH               "
                                },
                                {
                                    "0": "2021-05-01 00:00:00.000",
                                    "1": "5555",
                                    "2": "xceptor",
                                    "3": "USD    ",
                                    "4": "55356",
                                    "5": "2021-06-12 02:50:36.023",
                                    "6": "FILEH               "
                                },
                                {
                                    "0": "2021-05-01 00:00:00.000",
                                    "1": "5555",
                                    "2": "xceptor",
                                    "3": "USD    ",
                                    "4": "55356",
                                    "5": "2021-06-12 02:50:34.987",
                                    "6": "FILEH               "
                                },
                                {
                                    "0": "2021-05-01 00:00:00.000",
                                    "1": "5555",
                                    "2": "xceptor",
                                    "3": "USD    ",
                                    "4": "55356",
                                    "5": "2021-06-12 02:50:33.957",
                                    "6": "FILEH               "
                                },
                                {
                                    "0": "2021-05-01 00:00:00.000",
                                    "1": "5555",
                                    "2": "xceptor",
                                    "3": "USD    ",
                                    "4": "55356",
                                    "5": "2021-06-12 02:50:32.713",
                                    "6": "FILEH               "
                                },
                                {
                                    "0": "2021-05-01 00:00:00.000",
                                    "1": "5555",
                                    "2": "xceptor",
                                    "3": "USD    ",
                                    "4": "55356",
                                    "5": "2021-06-12 02:49:56.820",
                                    "6": "FILEH               "
                                }
                            ]
                        },
                        "text/html": "<table><tr><th>trade_date</th><th>ext_acc</th><th>modified_by</th><th>currency</th><th>amount</th><th>modified_date</th><th>file_path</th></tr><tr><td>2021-05-01 00:00:00.000</td><td>5555</td><td>xceptor</td><td>USD    </td><td>55356</td><td>2021-06-12 01:58:05.827</td><td>FILEB               </td></tr><tr><td>2021-05-01 00:00:00.000</td><td>5555</td><td>xceptor</td><td>AUD    </td><td>55356</td><td>2021-06-12 01:58:05.837</td><td>FILEB               </td></tr><tr><td>2021-05-01 00:00:00.000</td><td>5555</td><td>xceptor</td><td>ZAP    </td><td>55456</td><td>2021-06-12 01:58:05.840</td><td>FILEB               </td></tr><tr><td>2021-05-01 00:00:00.000</td><td>5555</td><td>xceptor</td><td>MOK    </td><td>55356</td><td>2021-06-12 01:58:05.843</td><td>FILEB               </td></tr><tr><td>2021-05-01 00:00:00.000</td><td>5555</td><td>xceptor</td><td>ZUL    </td><td>53556</td><td>2021-06-12 01:58:05.847</td><td>FILEB               </td></tr><tr><td>2021-05-01 00:00:00.000</td><td>5555</td><td>xceptor</td><td>XYZ    </td><td>55356</td><td>2021-06-12 01:58:05.853</td><td>FILEB               </td></tr><tr><td>2021-05-01 00:00:00.000</td><td>5555</td><td>xceptor</td><td>USD    </td><td>55356</td><td>2021-06-12 02:03:59.283</td><td>FILEG               </td></tr><tr><td>2021-05-01 00:00:00.000</td><td>5555</td><td>xceptor</td><td>USD    </td><td>55356</td><td>2021-06-12 02:07:59.093</td><td>FILEG               </td></tr><tr><td>2021-05-01 00:00:00.000</td><td>5555</td><td>xceptor</td><td>USD    </td><td>55356</td><td>2021-06-12 02:08:37.893</td><td>FILEH               </td></tr><tr><td>2021-05-01 00:00:00.000</td><td>5555</td><td>xceptor</td><td>XYZ    </td><td>55356</td><td>2021-06-12 02:46:59.897</td><td>FILEB               </td></tr><tr><td>2021-05-01 00:00:00.000</td><td>5555</td><td>xceptor</td><td>ZUL    </td><td>53556</td><td>2021-06-12 02:46:59.890</td><td>FILEB               </td></tr><tr><td>2021-05-01 00:00:00.000</td><td>5555</td><td>xceptor</td><td>MOK    </td><td>55356</td><td>2021-06-12 02:46:59.887</td><td>FILEB               </td></tr><tr><td>2021-05-01 00:00:00.000</td><td>5555</td><td>xceptor</td><td>ZAP    </td><td>55456</td><td>2021-06-12 02:46:59.883</td><td>FILEB               </td></tr><tr><td>2021-05-01 00:00:00.000</td><td>5555</td><td>xceptor</td><td>AUD    </td><td>55356</td><td>2021-06-12 02:46:59.880</td><td>FILEB               </td></tr><tr><td>2021-05-01 00:00:00.000</td><td>5555</td><td>xceptor</td><td>USD    </td><td>55356</td><td>2021-06-12 02:46:59.870</td><td>FILEB               </td></tr><tr><td>2021-05-01 00:00:00.000</td><td>5555</td><td>xceptor</td><td>USD    </td><td>55356</td><td>2021-06-12 02:50:37.123</td><td>FILEH               </td></tr><tr><td>2021-05-01 00:00:00.000</td><td>5555</td><td>xceptor</td><td>USD    </td><td>55356</td><td>2021-06-12 02:50:36.023</td><td>FILEH               </td></tr><tr><td>2021-05-01 00:00:00.000</td><td>5555</td><td>xceptor</td><td>USD    </td><td>55356</td><td>2021-06-12 02:50:34.987</td><td>FILEH               </td></tr><tr><td>2021-05-01 00:00:00.000</td><td>5555</td><td>xceptor</td><td>USD    </td><td>55356</td><td>2021-06-12 02:50:33.957</td><td>FILEH               </td></tr><tr><td>2021-05-01 00:00:00.000</td><td>5555</td><td>xceptor</td><td>USD    </td><td>55356</td><td>2021-06-12 02:50:32.713</td><td>FILEH               </td></tr><tr><td>2021-05-01 00:00:00.000</td><td>5555</td><td>xceptor</td><td>USD    </td><td>55356</td><td>2021-06-12 02:49:56.820</td><td>FILEH               </td></tr></table>"
                    },
                    "metadata": {}
                }
            ],
            "execution_count": 14
        },
        {
            "cell_type": "code",
            "source": [
                "CREATE OR ALTER TRIGGER trig_delete_citadel on TestDB.dbo.citadel\r\n",
                "INSTEAD OF INSERT AS\r\n",
                "SET NOCOUNT ON\r\n",
                "BEGIN\r\n",
                "DECLARE @xceptor char(7) = 'xceptor'\r\n",
                "IF (SELECT COUNT(*) FROM citadel as cit\r\n",
                "      INNER JOIN inserted ins\r\n",
                "      ON cit.modified_by = @xceptor\r\n",
                "      AND cit.ext_acc = ins.ext_acc \r\n",
                "      AND cit.trade_date = ins.trade_date\r\n",
                "      AND cit.file_path  <> ins.file_path ) > 0 \r\n",
                "BEGIN\r\n",
                "\tDELETE cit FROM citadel as cit\r\n",
                "        INNER JOIN inserted ins\r\n",
                "        ON cit.modified_by = @xceptor\r\n",
                "        AND cit.ext_acc = ins.ext_acc \r\n",
                "        AND cit.trade_date = ins.trade_date\r\n",
                "        AND cit.file_path  <> ins.file_path\r\n",
                "END\r\n",
                "INSERT INTO citadel SELECT * FROM inserted\r\n",
                "END"
            ],
            "metadata": {
                "azdata_cell_guid": "71b37269-1d90-49fc-8172-ef159e7dc67a"
            },
            "outputs": [
                {
                    "output_type": "display_data",
                    "data": {
                        "text/html": "Commands completed successfully."
                    },
                    "metadata": {}
                },
                {
                    "output_type": "display_data",
                    "data": {
                        "text/html": "Total execution time: 00:00:00.007"
                    },
                    "metadata": {}
                }
            ],
            "execution_count": 29
        },
        {
            "cell_type": "code",
            "source": [
                "CREATE OR ALTER TRIGGER backup_citadel_deleted on TestDB.dbo.citadel\r\n",
                "AFTER DELETE AS\r\n",
                "SET NOCOUNT ON\r\n",
                "BEGIN\r\n",
                "INSERT INTO citadel_deleted SELECT * FROM deleted\r\n",
                "END"
            ],
            "metadata": {
                "azdata_cell_guid": "166944a8-bc01-48a9-a0cf-9e5d9aab8f1d"
            },
            "outputs": [
                {
                    "output_type": "display_data",
                    "data": {
                        "text/html": "Commands completed successfully."
                    },
                    "metadata": {}
                },
                {
                    "output_type": "display_data",
                    "data": {
                        "text/html": "Total execution time: 00:00:00.006"
                    },
                    "metadata": {}
                }
            ],
            "execution_count": 30
        },
        {
            "cell_type": "code",
            "source": [
                "CREATE OR ALTER TRIGGER backup_citadel_deleted on TestDB.dbo.citadel\r\n",
                "AFTER DELETE AS\r\n",
                "SET NOCOUNT ON\r\n",
                "BEGIN\r\n",
                "INSERT INTO citadel_deleted SELECT * FROM deleted\r\n",
                "\r\n",
                "DECLARE @xml NVARCHAR(MAX)\r\n",
                "DECLARE @body NVARCHAR(MAX)\r\n",
                "\r\n",
                "SET @xml = CAST(( SELECT [trade_date] AS 'td','',[ext_acc] AS 'td','', [file_path] AS 'td'\r\n",
                "FROM deleted \r\n",
                "FOR XML PATH('tr'), ELEMENTS ) AS NVARCHAR(MAX))\r\n",
                "\r\n",
                "\r\n",
                "SET @body ='<html><body><H3>Contact Info</H3>\r\n",
                "<table border = 1> \r\n",
                "<tr>\r\n",
                "<th> trade_date </th> <th> ext_acc </th> <th> file_path </th></tr>'    \r\n",
                " \r\n",
                "SET @body = @body + @xml +'</table></body></html>'\r\n",
                "\r\n",
                "EXEC msdb.dbo.sp_send_dbmail\r\n",
                "@profile_name = 'SQL ALERTING', -- replace with your SQL Database Mail Profile \r\n",
                "@body = @body,\r\n",
                "@body_format ='HTML',\r\n",
                "@recipients = 'madhankumar388@gmail.com', -- replace with your email address\r\n",
                "@subject = 'E-mail in Tabular Format' ;\r\n",
                "END"
            ],
            "metadata": {
                "azdata_cell_guid": "9c79c27e-fdc8-4508-b7b6-f9837a2d8830"
            },
            "outputs": [
                {
                    "output_type": "display_data",
                    "data": {
                        "text/html": "Commands completed successfully."
                    },
                    "metadata": {}
                },
                {
                    "output_type": "display_data",
                    "data": {
                        "text/html": "Total execution time: 00:00:00.006"
                    },
                    "metadata": {}
                }
            ],
            "execution_count": 24
        },
        {
            "cell_type": "code",
            "source": [
                "INSERT INTO citadel VALUES ('1-may-2021', 5555, 'xceptor', 'USD', 55356, SYSDATETIME(), 'FILEB')\r\n",
                "INSERT INTO citadel VALUES ('1-may-2021', 5555, 'xceptor', 'AUD', 55356, SYSDATETIME(), 'FILEB')\r\n",
                "INSERT INTO citadel VALUES ('1-may-2021', 5555, 'xceptor', 'ZAP', 55456, SYSDATETIME(), 'FILEB')\r\n",
                "INSERT INTO citadel VALUES ('1-may-2021', 5555, 'xceptor', 'MOK', 55356, SYSDATETIME(), 'FILEB')\r\n",
                "INSERT INTO citadel VALUES ('1-may-2021', 5555, 'xceptor', 'ZUL', 53556, SYSDATETIME(), 'FILEB')\r\n",
                "INSERT INTO citadel VALUES ('1-may-2021', 5555, 'xceptor', 'XYZ', 55356, SYSDATETIME(), 'FILEB')"
            ],
            "metadata": {
                "azdata_cell_guid": "c9851982-8a47-4d31-84de-958d3f59b3b9"
            },
            "outputs": [
                {
                    "output_type": "display_data",
                    "data": {
                        "text/html": "(1 row affected)"
                    },
                    "metadata": {}
                },
                {
                    "output_type": "display_data",
                    "data": {
                        "text/html": "(1 row affected)"
                    },
                    "metadata": {}
                },
                {
                    "output_type": "display_data",
                    "data": {
                        "text/html": "(1 row affected)"
                    },
                    "metadata": {}
                },
                {
                    "output_type": "display_data",
                    "data": {
                        "text/html": "(1 row affected)"
                    },
                    "metadata": {}
                },
                {
                    "output_type": "display_data",
                    "data": {
                        "text/html": "(1 row affected)"
                    },
                    "metadata": {}
                },
                {
                    "output_type": "display_data",
                    "data": {
                        "text/html": "(1 row affected)"
                    },
                    "metadata": {}
                },
                {
                    "output_type": "display_data",
                    "data": {
                        "text/html": "Total execution time: 00:00:00.024"
                    },
                    "metadata": {}
                }
            ],
            "execution_count": 17
        },
        {
            "cell_type": "code",
            "source": [
                "INSERT INTO citadel VALUES ('1-may-2021', 5555, 'xceptor', 'USD', 55356, SYSDATETIME(), 'FILEZ')"
            ],
            "metadata": {
                "azdata_cell_guid": "548999fa-358b-4f3c-b31f-cfc2ac3c9826"
            },
            "outputs": [
                {
                    "output_type": "display_data",
                    "data": {
                        "text/html": "(1 row affected)"
                    },
                    "metadata": {}
                },
                {
                    "output_type": "display_data",
                    "data": {
                        "text/html": "Total execution time: 00:00:00.013"
                    },
                    "metadata": {}
                }
            ],
            "execution_count": 15
        },
        {
            "cell_type": "code",
            "source": [
                "sp_configure 'show advanced options', 1;\r\n",
                "GO\r\n",
                "RECONFIGURE;\r\n",
                "GO"
            ],
            "metadata": {
                "azdata_cell_guid": "00116872-3e2e-4b3d-8ae1-525ddfcdfdf7"
            },
            "outputs": [
                {
                    "output_type": "display_data",
                    "data": {
                        "text/html": "Configuration option 'show advanced options' changed from 0 to 1. Run the RECONFIGURE statement to install."
                    },
                    "metadata": {}
                },
                {
                    "output_type": "display_data",
                    "data": {
                        "text/html": "Commands completed successfully."
                    },
                    "metadata": {}
                },
                {
                    "output_type": "display_data",
                    "data": {
                        "text/html": "Total execution time: 00:00:00.104"
                    },
                    "metadata": {}
                }
            ],
            "execution_count": 25
        },
        {
            "cell_type": "code",
            "source": [
                "sp_configure 'Database Mail XPs', 1;\r\n",
                "GO\r\n",
                "RECONFIGURE\r\n",
                "GO"
            ],
            "metadata": {
                "azdata_cell_guid": "12f2181d-6d22-496d-97d3-bb3af93d7016"
            },
            "outputs": [
                {
                    "output_type": "display_data",
                    "data": {
                        "text/html": "Configuration option 'Database Mail XPs' changed from 0 to 1. Run the RECONFIGURE statement to install."
                    },
                    "metadata": {}
                },
                {
                    "output_type": "display_data",
                    "data": {
                        "text/html": "Commands completed successfully."
                    },
                    "metadata": {}
                },
                {
                    "output_type": "display_data",
                    "data": {
                        "text/html": "Total execution time: 00:00:00.051"
                    },
                    "metadata": {}
                }
            ],
            "execution_count": 26
        },
        {
            "cell_type": "code",
            "source": [
                "EXECUTE msdb.dbo.sysmail_add_account_sp  \r\n",
                "    @account_name = 'Gmail',  \r\n",
                "    @description = 'Mail account for sending outgoing notifications.',  \r\n",
                "    @email_address = 'madhankumar388@gmail.com',  \r\n",
                "    @display_name = 'Automated Mailer',  \r\n",
                "    @mailserver_name = 'smtp.gmail.com',\r\n",
                "    @port = 465,\r\n",
                "    @enable_ssl = 1,\r\n",
                "    @username = 'Use a valid e-mail address',\r\n",
                "    @password = 'Use the password for the e-mail account above' ;  \r\n",
                "GO"
            ],
            "metadata": {
                "azdata_cell_guid": "359a37fc-733b-4a1d-9e7f-46fbee49fcbc"
            },
            "outputs": [
                {
                    "output_type": "display_data",
                    "data": {
                        "text/html": "Commands completed successfully."
                    },
                    "metadata": {}
                },
                {
                    "output_type": "display_data",
                    "data": {
                        "text/html": "Total execution time: 00:00:00.027"
                    },
                    "metadata": {}
                }
            ],
            "execution_count": 28
        }
    ]
}